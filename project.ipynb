{
 "cells": [
  {
   "cell_type": "markdown",
   "id": "6c9a1a29",
   "metadata": {},
   "source": [
    "# Basic Python Practices\n",
    "\n",
    "#### Exercise 00. Variable Declaration\n",
    "\n",
    "Define the following variables with values of your choice:\n",
    "\n",
    "- A variable that stores your name (text).\n",
    "- A variable that stores your age (integer).\n",
    "- A variable that indicates if you like programming (true or false).\n",
    "- A variable that stores your average grade (decimal number)."
   ]
  },
  {
   "cell_type": "code",
   "execution_count": 1,
   "id": "04495cc0",
   "metadata": {},
   "outputs": [
    {
     "name": "stdout",
     "output_type": "stream",
     "text": [
      "Name: Alice Johnson\n",
      "Age: 25\n",
      "Likes programming: True\n",
      "Average grade: 8.7\n"
     ]
    }
   ],
   "source": [
    "# Declare your variables here.\n",
    "\n",
    "# Example\n",
    "greeting = \"Hello world\"\n",
    "\n",
    "# Exercise 00 - Variable Declaration\n",
    "name = \"Alice Johnson\"    # A variable that stores your name (text)\n",
    "age = 25                  # A variable that stores your age (integer)\n",
    "likes_programming = True  # A variable that indicates if you like programming (true or false)\n",
    "average_grade = 8.7       # A variable that stores your average grade (decimal number)\n",
    "\n",
    "# Print the variables to verify\n",
    "print(f\"Name: {name}\")\n",
    "print(f\"Age: {age}\")\n",
    "print(f\"Likes programming: {likes_programming}\")\n",
    "print(f\"Average grade: {average_grade}\")"
   ]
  },
  {
   "cell_type": "markdown",
   "id": "92b948f4",
   "metadata": {},
   "source": [
    "- Create a list with your five favorite numbers and print it."
   ]
  },
  {
   "cell_type": "code",
   "execution_count": 2,
   "id": "cb7a4019",
   "metadata": {},
   "outputs": [
    {
     "name": "stdout",
     "output_type": "stream",
     "text": [
      "My favorite numbers: [7, 13, 21, 42, 88]\n"
     ]
    }
   ],
   "source": [
    "# Favorite numbers list\n",
    "favorite_numbers = [7, 13, 21, 42, 88]\n",
    "print(\"My favorite numbers:\", favorite_numbers)"
   ]
  },
  {
   "cell_type": "markdown",
   "id": "04332f35",
   "metadata": {},
   "source": [
    "- Create a dictionary that stores a student's information and print it:\n",
    "\n",
    "        - Name\n",
    "        - Age\n",
    "        - Final grade"
   ]
  },
  {
   "cell_type": "code",
   "execution_count": 3,
   "id": "7997e8d0",
   "metadata": {},
   "outputs": [
    {
     "name": "stdout",
     "output_type": "stream",
     "text": [
      "Student information: {'Name': 'Maria Garcia', 'Age': 22, 'Final grade': 9.2}\n"
     ]
    }
   ],
   "source": [
    "# Student information dictionary\n",
    "student_info = {\n",
    "    \"Name\": \"Maria Garcia\",\n",
    "    \"Age\": 22,\n",
    "    \"Final grade\": 9.2\n",
    "}\n",
    "\n",
    "print(\"Student information:\", student_info)"
   ]
  },
  {
   "cell_type": "markdown",
   "id": "5dbaa835",
   "metadata": {},
   "source": [
    "#### Exercise 01. Basic data analysis with native Python structures.  \n",
    "Create a list with the grades of 5 students: [8.5, 9.2, 7.8, 8.9, 10].\n",
    "\n",
    "- Calculate the average of the grades."
   ]
  },
  {
   "cell_type": "code",
   "execution_count": 4,
   "id": "6f5ee032",
   "metadata": {},
   "outputs": [
    {
     "name": "stdout",
     "output_type": "stream",
     "text": [
      "The average grade is: 8.88\n"
     ]
    }
   ],
   "source": [
    "# Exercise 01 - Basic data analysis with native Python structures\n",
    "grades = [8.5, 9.2, 7.8, 8.9, 10]\n",
    "\n",
    "# Calculate the average of the grades\n",
    "average_grade = sum(grades) / len(grades)\n",
    "print(f\"The average grade is: {average_grade:.2f}\")"
   ]
  },
  {
   "cell_type": "markdown",
   "id": "20da3fc1",
   "metadata": {},
   "source": [
    "- Find the highest and lowest grade."
   ]
  },
  {
   "cell_type": "code",
   "execution_count": 5,
   "id": "4396c1a4",
   "metadata": {},
   "outputs": [
    {
     "name": "stdout",
     "output_type": "stream",
     "text": [
      "The highest grade is: 10\n",
      "The lowest grade is: 7.8\n"
     ]
    }
   ],
   "source": [
    "# Find the highest and lowest grade\n",
    "highest_grade = max(grades)\n",
    "lowest_grade = min(grades)\n",
    "\n",
    "print(f\"The highest grade is: {highest_grade}\")\n",
    "print(f\"The lowest grade is: {lowest_grade}\")"
   ]
  },
  {
   "cell_type": "markdown",
   "id": "5d7e1112",
   "metadata": {},
   "source": [
    "# Real estate data cleaning with Pandas for efficient analysis\n",
    "\n",
    "This is a real dataset that was downloaded using web scraping techniques. The data contains records from **Fotocasa**, one of the most popular real estate websites in Spain. Please do not perform web scraping unless it is for academic purposes.\n",
    "\n",
    "The dataset was downloaded a few years ago by Henry Navarro, and no economic benefit was obtained from it.\n",
    "\n",
    "It contains thousands of real house listings published on the website www.fotocasa.com. Your goal is to extract as much information as possible with the data science knowledge you have acquired so far.\n",
    "\n",
    "Let's get started!\n",
    "\n",
    "- First, let's read and explore the dataset."
   ]
  },
  {
   "cell_type": "code",
   "execution_count": 6,
   "id": "7ac6cb18",
   "metadata": {},
   "outputs": [],
   "source": [
    "import pandas as pd\n",
    "\n",
    "# Read the CSV file\n",
    "df = pd.read_csv('assets/real_estate.csv', sep=';') # This CSV file contains semicolons instead of commas as separators"
   ]
  },
  {
   "cell_type": "markdown",
   "id": "7c9f690a",
   "metadata": {},
   "source": [
    "- Display the first rows of the CSV file."
   ]
  },
  {
   "cell_type": "code",
   "execution_count": 7,
   "id": "a8ff6c53",
   "metadata": {},
   "outputs": [
    {
     "data": {
      "text/html": [
       "<div>\n",
       "<style scoped>\n",
       "    .dataframe tbody tr th:only-of-type {\n",
       "        vertical-align: middle;\n",
       "    }\n",
       "\n",
       "    .dataframe tbody tr th {\n",
       "        vertical-align: top;\n",
       "    }\n",
       "\n",
       "    .dataframe thead th {\n",
       "        text-align: right;\n",
       "    }\n",
       "</style>\n",
       "<table border=\"1\" class=\"dataframe\">\n",
       "  <thead>\n",
       "    <tr style=\"text-align: right;\">\n",
       "      <th></th>\n",
       "      <th>Unnamed: 0</th>\n",
       "      <th>id_realEstates</th>\n",
       "      <th>isNew</th>\n",
       "      <th>realEstate_name</th>\n",
       "      <th>phone_realEstate</th>\n",
       "      <th>url_inmueble</th>\n",
       "      <th>rooms</th>\n",
       "      <th>bathrooms</th>\n",
       "      <th>surface</th>\n",
       "      <th>price</th>\n",
       "      <th>...</th>\n",
       "      <th>level4Id</th>\n",
       "      <th>level5Id</th>\n",
       "      <th>level6Id</th>\n",
       "      <th>level7Id</th>\n",
       "      <th>level8Id</th>\n",
       "      <th>accuracy</th>\n",
       "      <th>latitude</th>\n",
       "      <th>longitude</th>\n",
       "      <th>zipCode</th>\n",
       "      <th>customZone</th>\n",
       "    </tr>\n",
       "  </thead>\n",
       "  <tbody>\n",
       "    <tr>\n",
       "      <th>0</th>\n",
       "      <td>1</td>\n",
       "      <td>153771986</td>\n",
       "      <td>False</td>\n",
       "      <td>ferrari 57 inmobiliaria</td>\n",
       "      <td>912177526.0</td>\n",
       "      <td>https://www.fotocasa.es/es/comprar/vivienda/ma...</td>\n",
       "      <td>3.0</td>\n",
       "      <td>2.0</td>\n",
       "      <td>103.0</td>\n",
       "      <td>195000</td>\n",
       "      <td>...</td>\n",
       "      <td>0</td>\n",
       "      <td>0</td>\n",
       "      <td>0</td>\n",
       "      <td>0</td>\n",
       "      <td>0</td>\n",
       "      <td>0</td>\n",
       "      <td>40,2948276786438</td>\n",
       "      <td>-3,44402412135624</td>\n",
       "      <td>NaN</td>\n",
       "      <td>NaN</td>\n",
       "    </tr>\n",
       "    <tr>\n",
       "      <th>1</th>\n",
       "      <td>2</td>\n",
       "      <td>153867863</td>\n",
       "      <td>False</td>\n",
       "      <td>tecnocasa fuenlabrada ferrocarril</td>\n",
       "      <td>916358736.0</td>\n",
       "      <td>https://www.fotocasa.es/es/comprar/vivienda/ma...</td>\n",
       "      <td>3.0</td>\n",
       "      <td>1.0</td>\n",
       "      <td>NaN</td>\n",
       "      <td>89000</td>\n",
       "      <td>...</td>\n",
       "      <td>0</td>\n",
       "      <td>0</td>\n",
       "      <td>0</td>\n",
       "      <td>0</td>\n",
       "      <td>0</td>\n",
       "      <td>1</td>\n",
       "      <td>40,28674</td>\n",
       "      <td>-3,79351</td>\n",
       "      <td>NaN</td>\n",
       "      <td>NaN</td>\n",
       "    </tr>\n",
       "    <tr>\n",
       "      <th>2</th>\n",
       "      <td>3</td>\n",
       "      <td>153430440</td>\n",
       "      <td>False</td>\n",
       "      <td>look find boadilla</td>\n",
       "      <td>916350408.0</td>\n",
       "      <td>https://www.fotocasa.es/es/comprar/vivienda/ma...</td>\n",
       "      <td>2.0</td>\n",
       "      <td>2.0</td>\n",
       "      <td>99.0</td>\n",
       "      <td>390000</td>\n",
       "      <td>...</td>\n",
       "      <td>0</td>\n",
       "      <td>0</td>\n",
       "      <td>0</td>\n",
       "      <td>0</td>\n",
       "      <td>0</td>\n",
       "      <td>0</td>\n",
       "      <td>40,4115646786438</td>\n",
       "      <td>-3,90662252135624</td>\n",
       "      <td>NaN</td>\n",
       "      <td>NaN</td>\n",
       "    </tr>\n",
       "    <tr>\n",
       "      <th>3</th>\n",
       "      <td>4</td>\n",
       "      <td>152776331</td>\n",
       "      <td>False</td>\n",
       "      <td>tecnocasa fuenlabrada ferrocarril</td>\n",
       "      <td>916358736.0</td>\n",
       "      <td>https://www.fotocasa.es/es/comprar/vivienda/ma...</td>\n",
       "      <td>3.0</td>\n",
       "      <td>1.0</td>\n",
       "      <td>86.0</td>\n",
       "      <td>89000</td>\n",
       "      <td>...</td>\n",
       "      <td>0</td>\n",
       "      <td>0</td>\n",
       "      <td>0</td>\n",
       "      <td>0</td>\n",
       "      <td>0</td>\n",
       "      <td>0</td>\n",
       "      <td>40,2853785786438</td>\n",
       "      <td>-3,79508142135624</td>\n",
       "      <td>NaN</td>\n",
       "      <td>NaN</td>\n",
       "    </tr>\n",
       "    <tr>\n",
       "      <th>4</th>\n",
       "      <td>5</td>\n",
       "      <td>153180188</td>\n",
       "      <td>False</td>\n",
       "      <td>ferrari 57 inmobiliaria</td>\n",
       "      <td>912177526.0</td>\n",
       "      <td>https://www.fotocasa.es/es/comprar/vivienda/ma...</td>\n",
       "      <td>2.0</td>\n",
       "      <td>2.0</td>\n",
       "      <td>106.0</td>\n",
       "      <td>172000</td>\n",
       "      <td>...</td>\n",
       "      <td>0</td>\n",
       "      <td>0</td>\n",
       "      <td>0</td>\n",
       "      <td>0</td>\n",
       "      <td>0</td>\n",
       "      <td>0</td>\n",
       "      <td>40,2998774864376</td>\n",
       "      <td>-3,45226301356237</td>\n",
       "      <td>NaN</td>\n",
       "      <td>NaN</td>\n",
       "    </tr>\n",
       "  </tbody>\n",
       "</table>\n",
       "<p>5 rows × 37 columns</p>\n",
       "</div>"
      ],
      "text/plain": [
       "   Unnamed: 0  id_realEstates  isNew                    realEstate_name  \\\n",
       "0           1       153771986  False            ferrari 57 inmobiliaria   \n",
       "1           2       153867863  False  tecnocasa fuenlabrada ferrocarril   \n",
       "2           3       153430440  False                 look find boadilla   \n",
       "3           4       152776331  False  tecnocasa fuenlabrada ferrocarril   \n",
       "4           5       153180188  False            ferrari 57 inmobiliaria   \n",
       "\n",
       "   phone_realEstate                                       url_inmueble  rooms  \\\n",
       "0       912177526.0  https://www.fotocasa.es/es/comprar/vivienda/ma...    3.0   \n",
       "1       916358736.0  https://www.fotocasa.es/es/comprar/vivienda/ma...    3.0   \n",
       "2       916350408.0  https://www.fotocasa.es/es/comprar/vivienda/ma...    2.0   \n",
       "3       916358736.0  https://www.fotocasa.es/es/comprar/vivienda/ma...    3.0   \n",
       "4       912177526.0  https://www.fotocasa.es/es/comprar/vivienda/ma...    2.0   \n",
       "\n",
       "   bathrooms  surface   price  ... level4Id level5Id level6Id level7Id  \\\n",
       "0        2.0    103.0  195000  ...        0        0        0        0   \n",
       "1        1.0      NaN   89000  ...        0        0        0        0   \n",
       "2        2.0     99.0  390000  ...        0        0        0        0   \n",
       "3        1.0     86.0   89000  ...        0        0        0        0   \n",
       "4        2.0    106.0  172000  ...        0        0        0        0   \n",
       "\n",
       "  level8Id accuracy          latitude          longitude zipCode customZone  \n",
       "0        0        0  40,2948276786438  -3,44402412135624     NaN        NaN  \n",
       "1        0        1          40,28674           -3,79351     NaN        NaN  \n",
       "2        0        0  40,4115646786438  -3,90662252135624     NaN        NaN  \n",
       "3        0        0  40,2853785786438  -3,79508142135624     NaN        NaN  \n",
       "4        0        0  40,2998774864376  -3,45226301356237     NaN        NaN  \n",
       "\n",
       "[5 rows x 37 columns]"
      ]
     },
     "execution_count": 7,
     "metadata": {},
     "output_type": "execute_result"
    }
   ],
   "source": [
    "# Display the first rows of the CSV file\n",
    "df.head()"
   ]
  },
  {
   "cell_type": "markdown",
   "id": "ce7aed60",
   "metadata": {},
   "source": [
    "Perfect, this was a small practice. Now let's begin with the real exercises!"
   ]
  },
  {
   "cell_type": "markdown",
   "id": "1221311f",
   "metadata": {},
   "source": [
    "#### Exercise 01. What is the most expensive house in the entire dataset? (★☆☆)\n",
    "\n",
    "Print the address and price of the selected house. For example:\n",
    "\n",
    "`The house located at Calle del Prado, Nº20 is the most expensive, and its price is 5000000 USD.`"
   ]
  },
  {
   "cell_type": "code",
   "execution_count": 8,
   "id": "a7f6d537",
   "metadata": {},
   "outputs": [
    {
     "data": {
      "text/plain": [
       "pandas.core.series.Series"
      ]
     },
     "execution_count": 8,
     "metadata": {},
     "output_type": "execute_result"
    }
   ],
   "source": [
    "type(df['price'])"
   ]
  },
  {
   "cell_type": "code",
   "execution_count": 9,
   "id": "aa45da68",
   "metadata": {},
   "outputs": [
    {
     "name": "stdout",
     "output_type": "stream",
     "text": [
      "The house located at engel volkers torrelodones is the most expensive, and its price is 8500000 USD.\n"
     ]
    }
   ],
   "source": [
    "# Sort listings by price\n",
    "df.sort_values(by='price', inplace=True)\n",
    "\n",
    "# Get the price and address of the most expensive house\n",
    "price = df['price'].iloc[-1]\n",
    "address = df['realEstate_name'].iloc[-1]\n",
    "\n",
    "# Print the result\n",
    "print(f\"The house located at {address} is the most expensive, and its price is {price} USD.\")"
   ]
  },
  {
   "cell_type": "markdown",
   "id": "8059b1b6",
   "metadata": {},
   "source": [
    "#### Exercise 02. What is the cheapest house in the dataset? (★☆☆)\n",
    "\n",
    "This exercise is similar to the previous one, except now we are looking for the house with the lowest price. Remember to print the address and price of the selected house. For example:\n",
    "\n",
    "`The house located at Calle Alcalá, Nº58 is the cheapest, and its price is 12000 USD.`\n"
   ]
  },
  {
   "cell_type": "code",
   "execution_count": 10,
   "id": "007c60de",
   "metadata": {},
   "outputs": [
    {
     "name": "stdout",
     "output_type": "stream",
     "text": [
      "The house located at cr homes is the cheapest, and its price is 0 USD.\n"
     ]
    }
   ],
   "source": [
    "# Get the price and address of the least expensive house\n",
    "price = df['price'].iloc[0]\n",
    "address = df['realEstate_name'].iloc[0]\n",
    "\n",
    "print(f\"The house located at {address} is the cheapest, and its price is {price} USD.\")"
   ]
  },
  {
   "cell_type": "markdown",
   "id": "637612ca",
   "metadata": {},
   "source": [
    "#### Exercise 03. What is the largest and smallest house in the dataset? (★☆☆)\n",
    "\n",
    "Print the address and area of the selected houses. For example:\n",
    "\n",
    "`The largest house is located at Calle Gran Vía, Nº38, and its area is 5000 square meters.`\n",
    "\n",
    "`The smallest house is located at Calle Mayor, Nº12, and its area is 200 square meters.`\n",
    "\n",
    "This exercise is similar to the previous one, but we are looking for the largest and smallest houses based on their area."
   ]
  },
  {
   "cell_type": "code",
   "execution_count": 11,
   "id": "580cbc83",
   "metadata": {},
   "outputs": [
    {
     "name": "stdout",
     "output_type": "stream",
     "text": [
      "The largest house is located at engel volkers torrelodones, and its area is nan square meters.\n",
      "The smallest house is located at toledo21, and its area is 15.0 square meters.\n"
     ]
    }
   ],
   "source": [
    "# Sort listings by 'surface'\n",
    "df.sort_values(by='surface', inplace=True)\n",
    "\n",
    "print(f\"The largest house is located at {df['realEstate_name'].iloc[-1]}, and its area is {df['surface'].iloc[-1]} square meters.\")\n",
    "print(f\"The smallest house is located at {df['realEstate_name'].iloc[0]}, and its area is {df['surface'].iloc[0]} square meters.\")"
   ]
  },
  {
   "cell_type": "markdown",
   "id": "c92af6da",
   "metadata": {},
   "source": [
    "#### Exercise 04. How many unique populations are in the dataset? (★☆☆)\n",
    "\n",
    "Count the number of unique populations in the 'level5' column and print the names of the populations separated by commas. For example:\n",
    "\n",
    "`> print(populations)`\n",
    "\n",
    "`population1, population2, population3, ...`"
   ]
  },
  {
   "cell_type": "code",
   "execution_count": 12,
   "id": "07ef25bb",
   "metadata": {},
   "outputs": [
    {
     "name": "stdout",
     "output_type": "stream",
     "text": [
      "Number of unique populations: 168\n",
      "\n",
      "Populations:\n",
      " Madrid Capital, Las Rozas de Madrid, Chinchón, Robledo de Chavela, Becerril de la Sierra, Majadahonda, San Martín de Valdeiglesias, Ciempozuelos, Brunete, Collado Villalba, Aranjuez, Móstoles, Leganés, El Álamo, Galapagar, Arganda del Rey, San Sebastián de los Reyes, San Lorenzo de El Escorial, San Martín de la Vega, El Molar (Madrid), Humanes de Madrid, Moralzarzal, Villanueva del Pardillo, Torrejón de Ardoz, Valdemoro, Sevilla la Nueva, Coslada, Alcorcón, Cadalso de los Vidrios, Alcobendas, Alcalá de Henares, Valdilecha, Villa del Prado, Pinto, Alpedrete, Manzanares El Real, Getafe, El Escorial, Villalbilla, Mejorada del Campo, Fuenlabrada, Daganzo de Arriba, Belmonte de Tajo, Villaviciosa de Odón, Pozuelo de Alarcón, Rivas-vaciamadrid, Miraflores de la Sierra, Colmenar de Oreja, Campo Real, Colmenar Viejo, Parla, Boadilla del Monte, Los Molinos, Valdemorillo, San Fernando de Henares, Cubas de la Sagra, Torrelaguna, Paracuellos de Jarama, Ribatejada, Montejo de la Sierra, Titulcia, Valdeolmos-Alalpardo, Fuente El Saz de Jarama, Los Santos de la Humosa, Cenicientos, Gargantilla del Lozoya, Velilla de San Antonio, Talamanca de Jarama, Morata de Tajuña, El Boalo - Cerceda – Mataelpino, Guadarrama, Villamantilla, Quijorna, Villanueva de la Cañada, Ajalvir, Navas del Rey, El Vellón, Meco, Navalagamella, Fresnedillas de la Oliva, Navalcarnero, Orusco de Tajuña, Valdemaqueda, Tielmes, Griñón, Zarzalejo, Valdeavero, Guadalix de la Sierra, Hoyo de Manzanares, Loeches, Pelayos de la Presa, Arroyomolinos (Madrid), Torres de la Alameda, Cercedilla, Algete, Fuentidueña de Tajo, Carabaña, Torrelodones, Camarma de Esteruelas, Colmenarejo, Garganta de los Montes, Tres Cantos, Moraleja de Enmedio, Valdetorres de Jarama, Pozuelo del Rey, Villarejo de Salvanés, Aldea del Fresno, Valdelaguna, Santa María de la Alameda, Horcajo de la Sierra, Buitrago del Lozoya, Cobeña, Nuevo Baztán, Torrejón de la Calzada, Chapinería, San Agustín del Guadalix, Torrejón de Velasco, Villamanta, Lozoyuela-navas-sieteiglesias, Collado Mediano, Casarrubuelos, Fresno de Torote - Serracines, Batres, Valverde de Alcalá, Soto del Real, Navacerrada, Pezuela de las Torres, Villaconejos, Santorcaz, Corpa, Perales de Tajuña, Estremera, Lozoya, Fresno de Torote, Patones, Puentes Viejas, Bustarviejo, La Hiruela, Ambite, Villar del Olmo, La Cabrera, Villavieja del Lozoya, Madarcos, El Berrueco, Cabanillas de la Sierra, Villanueva de Perales, Valdaracete, Serranillos del Valle, Villamanrique de Tajo, Pedrezuela, El Atazar, Anchuelo, Brea de Tajo, Braojos, Piñuécar-gandullas, Valdemanco, Venturada, Robregordo, Colmenar del Arroyo, Redueña, Rascafría, Pinilla del Valle, Torremocha de Jarama, Gascones, Valdepiélagos, Canencia, Navalafuente, Navarredonda\n"
     ]
    }
   ],
   "source": [
    "import pandas as pd\n",
    "\n",
    "# Exercise 04 - Count unique populations\n",
    "unique_populations = df['level5'].unique()\n",
    "population_count = len(unique_populations)\n",
    "\n",
    "print(f\"Number of unique populations: {population_count}\")\n",
    "print(\"\\nPopulations:\")\n",
    "populations = ', '.join(unique_populations)\n",
    "print(populations)"
   ]
  },
  {
   "cell_type": "markdown",
   "id": "08fda078",
   "metadata": {},
   "source": [
    "#### Exercise 05. Does the dataset contain null values (NAs)? (★☆☆)\n",
    "\n",
    "Print a boolean (`True` or `False`) to check if there are null values, followed by the columns that contain NAs."
   ]
  },
  {
   "cell_type": "code",
   "execution_count": null,
   "id": "7eb98e35",
   "metadata": {},
   "outputs": [
    {
     "name": "stdout",
     "output_type": "stream",
     "text": [
      "Does the dataset contain null values? True\n",
      "\n",
      "Columns with null values: ['realEstate_name', 'phone_realEstate', 'rooms', 'bathrooms', 'surface', 'description', 'level4', 'level6', 'level7', 'level8', 'zipCode', 'customZone']\n",
      "\n",
      "Null count per column:\n",
      "realEstate_name        10\n",
      "phone_realEstate      794\n",
      "rooms                 353\n",
      "bathrooms             345\n",
      "surface              1250\n",
      "description           142\n",
      "level4               6643\n",
      "level6              14627\n",
      "level7               2277\n",
      "level8               8579\n",
      "zipCode             15335\n",
      "customZone          15335\n",
      "dtype: int64\n"
     ]
    }
   ],
   "source": [
    "# Exercise 05 - Check for null values\n",
    "has_nulls = df.isnull().any().any()\n",
    "print(f\"Does the dataset contain null values? {has_nulls}\")\n",
    "\n",
    "# Show columns that contain null values\n",
    "columns_with_nulls = df.columns[df.isnull().any()].tolist()\n",
    "\n",
    "print(f\"\\nColumns with null values: {columns_with_nulls}\")\n",
    "print(f\"\\nNull count per column:\")\n",
    "print(df.isnull().sum()[df.isnull().sum() > 0])"
   ]
  },
  {
   "cell_type": "markdown",
   "id": "a8b31e50",
   "metadata": {},
   "source": [
    "#### Exercise 06. Remove the null values (NAs) from the dataset, if applicable (★★☆)\n",
    "\n",
    "After removing the null values, compare the size of the DataFrame before and after the removal."
   ]
  },
  {
   "cell_type": "code",
   "execution_count": 14,
   "id": "9f174338",
   "metadata": {},
   "outputs": [
    {
     "name": "stdout",
     "output_type": "stream",
     "text": [
      "Original dataset size: 15335 listings\n",
      "Cleaned dataset size: 0 listings\n"
     ]
    }
   ],
   "source": [
    "# Exercise 06 - Remove null values\n",
    "cleaned_df = df.dropna()\n",
    "\n",
    "print(f\"Original dataset size: {len(df)} listings\")\n",
    "print(f\"Cleaned dataset size: {len(cleaned_df)} listings\")"
   ]
  },
  {
   "cell_type": "markdown",
   "id": "3dcc062c",
   "metadata": {},
   "source": [
    "Since the `zipCode` and `customZone` columns contain only null values - removing nulls leaves us with no data.\n",
    "\n",
    "In this case, we need to thin a little about what we actually want. Which columns do we need for our analysis? Looking at the rest of the questions below, it turns out we only need `level5` (population) and the price."
   ]
  },
  {
   "cell_type": "code",
   "execution_count": 15,
   "id": "8ed63b9f",
   "metadata": {},
   "outputs": [
    {
     "name": "stdout",
     "output_type": "stream",
     "text": [
      "Original dataset size: 15335 listings\n",
      "Cleaned dataset size: 15335 listings\n"
     ]
    }
   ],
   "source": [
    "# Exercise 06 - Remove null values\n",
    "cleaned_df = df[['price', 'level5']].dropna()\n",
    "\n",
    "print(f\"Original dataset size: {len(df)} listings\")\n",
    "print(f\"Cleaned dataset size: {len(cleaned_df)} listings\")"
   ]
  },
  {
   "cell_type": "markdown",
   "id": "1f399497",
   "metadata": {},
   "source": [
    "Much better."
   ]
  },
  {
   "cell_type": "markdown",
   "id": "71fd820e",
   "metadata": {},
   "source": [
    "#### Exercise 07. What is the average price in the population of \"Arroyomolinos (Madrid)\"? (★★☆)\n",
    "\n",
    "Print the value obtained from the 'level5' column."
   ]
  },
  {
   "cell_type": "code",
   "execution_count": 16,
   "id": "2a495ff1",
   "metadata": {},
   "outputs": [
    {
     "name": "stdout",
     "output_type": "stream",
     "text": [
      "The average price in Arroyomolinos (Madrid) is: 294541.60 USD\n",
      "Number of properties in Arroyomolinos (Madrid): 137\n"
     ]
    }
   ],
   "source": [
    "# Exercise 07 - Average price in Arroyomolinos (Madrid)\n",
    "arroyomolinos_data = cleaned_df[cleaned_df['level5'] == 'Arroyomolinos (Madrid)']\n",
    "\n",
    "average_price = arroyomolinos_data['price'].mean()\n",
    "print(f\"The average price in Arroyomolinos (Madrid) is: {average_price:.2f} USD\")\n",
    "print(f\"Number of properties in Arroyomolinos (Madrid): {len(arroyomolinos_data)}\")\n"
   ]
  },
  {
   "cell_type": "markdown",
   "id": "75911380",
   "metadata": {},
   "source": [
    "#### Exercise 08. Plot the histogram of prices for the population of \"Arroyomolinos (Madrid)\" and explain what you observe (★★☆)\n",
    "\n",
    "Print the histogram of the prices and write a brief analysis of the plot in the Markdown cell."
   ]
  },
  {
   "cell_type": "code",
   "execution_count": 17,
   "id": "070c7ed3",
   "metadata": {},
   "outputs": [
    {
     "data": {
      "image/png": "[encoded data removed]",
      "text/plain": [
       "<Figure size 640x480 with 1 Axes>"
      ]
     },
     "metadata": {},
     "output_type": "display_data"
    }
   ],
   "source": [
    "import matplotlib.pyplot as plt\n",
    "\n",
    "# Plot the histogram of prices for Arroyomolinos (Madrid)\n",
    "arroyomolinos_data = cleaned_df[cleaned_df['level5'] == 'Arroyomolinos (Madrid)']\n",
    "prices = arroyomolinos_data['price']\n",
    "\n",
    "plt.hist(prices, bins=10)\n",
    "plt.title('Price Distribution in Arroyomolinos (Madrid)')\n",
    "plt.xlabel('Price (USD)')\n",
    "plt.ylabel('Listings')\n",
    "plt.show()\n"
   ]
  },
  {
   "cell_type": "markdown",
   "id": "91de7b63",
   "metadata": {},
   "source": [
    "#### Analysis of Price Distribution in Arroyomolinos (Madrid)\n",
    "\n",
    "**Observations:**\n",
    "\n",
    "1. **Distribution Shape**: The price distribution is qualitatively normal with a slight skew/tail to the left, indicating that while most listings cluster around the mean there area few with significantly  higher prices.\n",
    "\n",
    "2. **Central Tendency**: The mean price is approximately $300,000.\n",
    "\n",
    "3. **Price Range**: Prices range from $0 to almost $600,000. The zero-price listing could be a data collection error should be investigated and/or removed for further analysis."
   ]
  }
 ],
 "metadata": {
  "kernelspec": {
   "display_name": "Python 3",
   "language": "python",
   "name": "python3"
  },
  "language_info": {
   "codemirror_mode": {
    "name": "ipython",
    "version": 3
   },
   "file_extension": ".py",
   "mimetype": "text/x-python",
   "name": "python",
   "nbconvert_exporter": "python",
   "pygments_lexer": "ipython3",
   "version": "3.10.18"
  }
 },
 "nbformat": 4,
 "nbformat_minor": 5
}
